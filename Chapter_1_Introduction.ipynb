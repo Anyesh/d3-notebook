{
 "cells": [
  {
   "cell_type": "code",
   "execution_count": 334,
   "metadata": {},
   "outputs": [],
   "source": [
    "import scipy.stats\n"
   ]
  },
  {
   "cell_type": "code",
   "execution_count": 335,
   "metadata": {
    "colab": {},
    "colab_type": "code",
    "id": "ZkXWcUOR_Odh"
   },
   "outputs": [],
   "source": [
    "# def calculate_density(x):\n",
    "#   ''' \n",
    "\n",
    "#   '''\n",
    "#   return (1/(2*np.pi*np.var(x))**0.5)*np.exp(-((x - np.mean(x)**2)/2*np.var(x)))\n",
    "\n",
    "\n",
    "import math\n",
    "\n",
    "\n",
    "def normpdf(x, mean, sd):\n",
    "    var = float(sd)**2\n",
    "    denom = (2*math.pi*var)**.5\n",
    "    num = math.exp(-(float(x)-float(mean))**2/(2*var))\n",
    "    return num/denom"
   ]
  },
  {
   "cell_type": "code",
   "execution_count": 336,
   "metadata": {},
   "outputs": [],
   "source": [
    "from IPython.display import display, Javascript, HTML\n",
    "import json"
   ]
  },
  {
   "cell_type": "code",
   "execution_count": 337,
   "metadata": {
    "colab": {},
    "colab_type": "code",
    "id": "R4zvqGx4gZ4M"
   },
   "outputs": [],
   "source": [
    "import numpy as np\n",
    "import pandas as pd\n",
    "from sklearn.datasets import load_iris\n",
    "import seaborn as sns\n",
    "import matplotlib.pyplot as plt"
   ]
  },
  {
   "cell_type": "code",
   "execution_count": 338,
   "metadata": {
    "colab": {},
    "colab_type": "code",
    "id": "Aw5MVny-TEKM"
   },
   "outputs": [],
   "source": [
    "iris = load_iris()\n",
    "iris = pd.DataFrame(data=np.c_[iris['data'], iris['target']],\n",
    "                    columns=iris['feature_names'] + ['target'])\n"
   ]
  },
  {
   "cell_type": "code",
   "execution_count": 339,
   "metadata": {
    "colab": {},
    "colab_type": "code",
    "id": "jKvvGVmGiZwX"
   },
   "outputs": [],
   "source": [
    "target_0 = iris.loc[iris['target'] == 0]\n",
    "target_1 = iris.loc[iris['target'] == 1]\n",
    "target_2 = iris.loc[iris['target'] == 2]"
   ]
  },
  {
   "cell_type": "code",
   "execution_count": 340,
   "metadata": {
    "colab": {
     "base_uri": "https://localhost:8080/",
     "height": 296
    },
    "colab_type": "code",
    "id": "tO716t4OidXe",
    "outputId": "66282fad-2fa5-4dc9-c2a9-9a47bb8b8bb8"
   },
   "outputs": [
    {
     "data": {
      "text/plain": [
       "Text(0, 0.5, 'P(x)')"
      ]
     },
     "execution_count": 340,
     "metadata": {},
     "output_type": "execute_result"
    },
    {
     "data": {
      "image/png": "[encoded data removed]",
      "text/plain": [
       "<Figure size 432x288 with 1 Axes>"
      ]
     },
     "metadata": {
      "needs_background": "light"
     },
     "output_type": "display_data"
    }
   ],
   "source": [
    "sns.distplot(target_0[['sepal length (cm)']], hist=True, kde=False)\n",
    "sns.distplot(target_1[['sepal length (cm)']], hist=True, kde=False)\n",
    "sns.distplot(target_2[['sepal length (cm)']], hist=True, kde=False)\n",
    "plt.xlabel('x')\n",
    "plt.ylabel('P(x)')"
   ]
  },
  {
   "cell_type": "code",
   "execution_count": 341,
   "metadata": {
    "colab": {
     "base_uri": "https://localhost:8080/",
     "height": 296
    },
    "colab_type": "code",
    "id": "Ju0LB5DZgeSI",
    "outputId": "80f70d92-8f95-4124-aa2e-9610c00abc5f"
   },
   "outputs": [
    {
     "data": {
      "text/plain": [
       "Text(0, 0.5, 'P(x)')"
      ]
     },
     "execution_count": 341,
     "metadata": {},
     "output_type": "execute_result"
    },
    {
     "data": {
      "image/png": "[encoded data removed]",
      "text/plain": [
       "<Figure size 432x288 with 1 Axes>"
      ]
     },
     "metadata": {
      "needs_background": "light"
     },
     "output_type": "display_data"
    }
   ],
   "source": [
    "sns.distplot(target_0[['sepal length (cm)']], hist=False)\n",
    "sns.distplot(target_1[['sepal length (cm)']], hist=False)\n",
    "sns.distplot(target_2[['sepal length (cm)']], hist=False)\n",
    "plt.xlabel('x')\n",
    "plt.ylabel('P(x)')"
   ]
  },
  {
   "cell_type": "code",
   "execution_count": 360,
   "metadata": {},
   "outputs": [],
   "source": [
    "arr_1 = []\n",
    "data = target_0[['sepal length (cm)']].values\n",
    "mean = np.mean(data)\n",
    "var = np.var(data)\n",
    "\n",
    "for x in data:\n",
    "    arr_1.append({\"p\": scipy.stats.norm(mean, var).pdf(x)[0], \"q\": x[0]})\n",
    "    "
   ]
  },
  {
   "cell_type": "code",
   "execution_count": 361,
   "metadata": {},
   "outputs": [],
   "source": [
    "arr_2 = []\n",
    "data = target_1[['sepal length (cm)']].values\n",
    "mean = np.mean(data)\n",
    "var = np.var(data)\n",
    "\n",
    "for x in data:\n",
    "    arr_2.append({\"p\": scipy.stats.norm(mean, var).pdf(x)[0], \"q\": x[0]})"
   ]
  },
  {
   "cell_type": "code",
   "execution_count": 362,
   "metadata": {},
   "outputs": [],
   "source": [
    "arr_3 = []\n",
    "data = target_2[['sepal length (cm)']].values\n",
    "mean = np.mean(data)\n",
    "var = np.var(data)\n",
    "\n",
    "for x in data:\n",
    "    arr_3.append({\"p\": scipy.stats.norm(mean, var).pdf(x)[0], \"q\": x[0]})"
   ]
  },
  {
   "cell_type": "code",
   "execution_count": 347,
   "metadata": {},
   "outputs": [],
   "source": [
    "# // %%javascript\n",
    "# // require.config({\n",
    "# //     paths: { \n",
    "# //         jStat: 'https://cdn.jsdelivr.net/jstat/latest/jstat.min.js'\n",
    "# //     }\n",
    "# // });"
   ]
  },
  {
   "cell_type": "code",
   "execution_count": 364,
   "metadata": {},
   "outputs": [
    {
     "data": {
      "application/javascript": [
       "require.config({paths: {d3: 'https://d3js.org/d3.v5.min'}});"
      ],
      "text/plain": [
       "<IPython.core.display.Javascript object>"
      ]
     },
     "metadata": {},
     "output_type": "display_data"
    },
    {
     "data": {
      "application/javascript": [
       "// First undefine 'gaussian' so we can easily reload this file.\n",
       "require.undef(\"gaussian\");\n",
       "\n",
       "define(\"gaussian\", [\"d3\"], function (d3) {\n",
       "  function Random_normal_Dist(mean, sd) {\n",
       "    let data = [];\n",
       "    for (var i = mean - 4 * sd; i < mean + 4 * sd; i += 1) {\n",
       "      var q = i;\n",
       "      var p = jStat.normal.pdf(i, mean, sd);\n",
       "      var arr = {\n",
       "        q: q,\n",
       "        p: p,\n",
       "      };\n",
       "      data.push(arr);\n",
       "    }\n",
       "    return data;\n",
       "  }\n",
       "\n",
       "  function draw(container, arr_1, arr_2, arr_3, width, height) {\n",
       "    var margin = { top: 20, right: 30, bottom: 30, left: 40 },\n",
       "      width = width - margin.left - margin.right,\n",
       "      height = height - margin.top - margin.bottom;\n",
       "\n",
       "    // var array1 = Random_normal_Dist(0, 1);\n",
       "    // var array2 = Random_normal_Dist(2, 2);\n",
       "    var array1 = arr_1;\n",
       "    var array2 = arr_2;\n",
       "    var array3 = arr_3;\n",
       "\n",
       "    var x = d3.scaleLinear().rangeRound([0, width]);\n",
       "\n",
       "    //Min q\n",
       "    var d1 = d3.min(array1, function (d) {\n",
       "      return d.q;\n",
       "    });\n",
       "    var d2 = d3.min(array2, function (d) {\n",
       "      return d.q;\n",
       "    });\n",
       "    var min_d = d3.min([d1, d2]);\n",
       "\n",
       "    //Max q\n",
       "    d1 = d3.max(array1, function (d) {\n",
       "      return d.q;\n",
       "    });\n",
       "    d2 = d3.max(array2, function (d) {\n",
       "      return d.q;\n",
       "    });\n",
       "    var max_d = d3.max([d1, d2]);\n",
       "\n",
       "    //Max p\n",
       "    d1 = d3.max(array1, function (d) {\n",
       "      return d.p;\n",
       "    });\n",
       "    d2 = d3.max(array2, function (d) {\n",
       "      return d.p;\n",
       "    });\n",
       "    var max_p = d3.max([d1, d2]);\n",
       "\n",
       "    x.domain([min_d, max_d + 1]).nice;\n",
       "\n",
       "    var y = d3.scaleLinear().domain([0, max_p]).range([height, 0]);\n",
       "\n",
       "    var svg = d3\n",
       "      .select(container)\n",
       "      .append(\"svg\")\n",
       "      .attr(\"width\", width + margin.left + margin.right)\n",
       "      .attr(\"height\", height + margin.top + margin.bottom)\n",
       "      .append(\"g\")\n",
       "      .attr(\"transform\", \"translate(\" + margin.left + \",\" + margin.top + \")\");\n",
       "\n",
       "    var gX = svg\n",
       "      .append(\"g\")\n",
       "      .attr(\"class\", \"x axis\")\n",
       "      .attr(\"transform\", \"translate(0,\" + height + \")\")\n",
       "      .call(d3.axisBottom(x));\n",
       "\n",
       "    var gY = svg.append(\"g\").attr(\"class\", \"y axis\").call(d3.axisLeft(y));\n",
       "\n",
       "    var line = d3\n",
       "      .line()\n",
       "      .curve(d3.curveBasis)\n",
       "      .x(function (d) {\n",
       "        return x(d.q);\n",
       "      })\n",
       "      .y(function (d) {\n",
       "        return y(d.p);\n",
       "      });\n",
       "\n",
       "    svg\n",
       "      .append(\"path\")\n",
       "      .datum(array1)\n",
       "      .attr(\"class\", \"line\")\n",
       "      //   .attr(\"fill\", \"none\")\n",
       "      .attr(\"d\", line)\n",
       "      .attr(\"fill\", \"#ff5454\")\n",
       "      .attr(\"stroke-width\", 1.5)\n",
       "      .attr(\"stroke-linejoin\", \"round\")\n",
       "      .style(\"opacity\", \"0.5\")\n",
       "      .on(\"mouseover\", function () {\n",
       "        d3.select(this)\n",
       "          .interrupt(\"fade\")\n",
       "          .style(\"fill\", \"#ff0404\")\n",
       "          .style(\"opacity\", 1)\n",
       "          .attr(\"r\", function (d) {\n",
       "            return 1.1 * d + 10;\n",
       "          });\n",
       "      })\n",
       "      .on(\"mouseout\", function () {\n",
       "        d3.select(this)\n",
       "          .transition(\"fade\")\n",
       "          .duration(500)\n",
       "          .style(\"fill\", \"#ff5454\")\n",
       "          .style(\"opacity\", 0.7)\n",
       "          .attr(\"r\", function (d) {\n",
       "            return d;\n",
       "          });\n",
       "      })\n",
       "      .transition()\n",
       "      .duration(2000)\n",
       "      .attr(\"r\", function (d) {\n",
       "        return d;\n",
       "      });\n",
       "\n",
       "    svg\n",
       "      .append(\"path\")\n",
       "      .datum(array2)\n",
       "      //   .attr(\"fill\", \"none\")\n",
       "      .attr(\"fill\", \"#4393c3\")\n",
       "      .attr(\"stroke-width\", 1.5)\n",
       "      .attr(\"stroke-linejoin\", \"round\")\n",
       "      .attr(\"d\", line)\n",
       "      .style(\"opacity\", \"0.5\")\n",
       "      .on(\"mouseover\", function () {\n",
       "        d3.select(this)\n",
       "          .interrupt(\"fade\")\n",
       "          .style(\"fill\", \"#009fff\")\n",
       "          .style(\"opacity\", 1)\n",
       "          .attr(\"r\", function (d) {\n",
       "            return 1.1 * d + 10;\n",
       "          });\n",
       "      })\n",
       "      .on(\"mouseout\", function () {\n",
       "        d3.select(this)\n",
       "          .transition(\"fade\")\n",
       "          .duration(500)\n",
       "          .style(\"fill\", \"#4393c3\")\n",
       "          .style(\"opacity\", 0.7)\n",
       "          .attr(\"r\", function (d) {\n",
       "            return d;\n",
       "          });\n",
       "      })\n",
       "      .transition()\n",
       "      .duration(2000)\n",
       "      .attr(\"r\", function (d) {\n",
       "        return d;\n",
       "      });\n",
       "\n",
       "    svg\n",
       "      .append(\"path\")\n",
       "      .datum(array3)\n",
       "      //   .attr(\"fill\", \"none\")\n",
       "      .attr(\"fill\", \"#ff850e\")\n",
       "      .attr(\"stroke-width\", 1.5)\n",
       "      .attr(\"stroke-linejoin\", \"round\")\n",
       "      .attr(\"d\", line)\n",
       "      .style(\"opacity\", \"0.5\")\n",
       "      .on(\"mouseover\", function () {\n",
       "        d3.select(this)\n",
       "          .interrupt(\"fade\")\n",
       "          .style(\"fill\", \"#ff850e\")\n",
       "          .style(\"opacity\", 1)\n",
       "          .attr(\"r\", function (d) {\n",
       "            return 1.1 * d + 10;\n",
       "          });\n",
       "      })\n",
       "      .on(\"mouseout\", function () {\n",
       "        d3.select(this)\n",
       "          .transition(\"fade\")\n",
       "          .duration(500)\n",
       "          .style(\"fill\", \"#ff850e\")\n",
       "          .style(\"opacity\", 0.7)\n",
       "          .attr(\"r\", function (d) {\n",
       "            return d;\n",
       "          });\n",
       "      })\n",
       "      .transition()\n",
       "      .duration(2000)\n",
       "      .attr(\"r\", function (d) {\n",
       "        return d;\n",
       "      });\n",
       "\n",
       "    //     width = width || 600;\n",
       "    //     height = height || 200;\n",
       "    //     var svg = d3\n",
       "    //       .select(container)\n",
       "    //       .append(\"svg\")\n",
       "    //       .attr(\"width\", width)\n",
       "    //       .attr(\"height\", height)\n",
       "    //       .append(\"g\");\n",
       "\n",
       "    //     var x = d3\n",
       "    //       .scaleLinear()\n",
       "    //       .domain([0, data.length - 1])\n",
       "    //       .range([50, width - 50]);\n",
       "\n",
       "    //     var gaussian = svg.selectAll(\"circle\").data(data);\n",
       "\n",
       "    //     gaussian\n",
       "    //       .enter()\n",
       "    //       .append(\"circle\")\n",
       "    //       .attr(\"cx\", function (d, i) {\n",
       "    //         return x(i);\n",
       "    //       })\n",
       "    //       .attr(\"cy\", height / 2)\n",
       "    //       .attr(\"r\", 20)\n",
       "    //       .style(\"fill\", \"#1f77b4\")\n",
       "    //       .style(\"opacity\", 0.7)\n",
       "    //       .on(\"mouseover\", function () {\n",
       "    //         d3.select(this)\n",
       "    //           .interrupt(\"fade\")\n",
       "    //           .style(\"fill\", \"#ff850e\")\n",
       "    //           .style(\"opacity\", 1)\n",
       "    //           .attr(\"r\", function (d) {\n",
       "    //             return 1.1 * d + 10;\n",
       "    //           });\n",
       "    //       })\n",
       "    //       .on(\"mouseout\", function () {\n",
       "    //         d3.select(this)\n",
       "    //           .transition(\"fade\")\n",
       "    //           .duration(500)\n",
       "    //           .style(\"fill\", \"#1f77b4\")\n",
       "    //           .style(\"opacity\", 0.7)\n",
       "    //           .attr(\"r\", function (d) {\n",
       "    //             return d;\n",
       "    //           });\n",
       "    //       })\n",
       "    //       .transition()\n",
       "    //       .duration(2000)\n",
       "    //       .attr(\"r\", function (d) {\n",
       "    //         return d;\n",
       "    //       });\n",
       "  }\n",
       "\n",
       "  return draw;\n",
       "});\n",
       "\n",
       "element.append(\"loaded gaussian model\");\n"
      ],
      "text/plain": [
       "<IPython.core.display.Javascript object>"
      ]
     },
     "metadata": {},
     "output_type": "display_data"
    },
    {
     "data": {
      "text/html": [
       "<style>\n",
       "  svg circle {\n",
       "    stroke: #16527b;\n",
       "    stroke-width: 1px;\n",
       "  }\n",
       "</style>\n"
      ],
      "text/plain": [
       "<IPython.core.display.HTML object>"
      ]
     },
     "metadata": {},
     "output_type": "display_data"
    }
   ],
   "source": [
    "display(Javascript(\"require.config({paths: {d3: 'https://d3js.org/d3.v5.min'}});\"))\n",
    "display(Javascript(filename=\"gaussian.js\"))\n",
    "display(HTML(filename=\"gaussian.css.html\"))"
   ]
  },
  {
   "cell_type": "code",
   "execution_count": 365,
   "metadata": {},
   "outputs": [],
   "source": [
    "def _sort(x):\n",
    "    return sorted(x,  key=lambda k: k['q'])"
   ]
  },
  {
   "cell_type": "code",
   "execution_count": 366,
   "metadata": {},
   "outputs": [],
   "source": [
    "def draw_gaussian(arr_1, arr_2,arr_3, width, height):\n",
    "        display(Javascript(\"\"\"\n",
    "        (function(element){\n",
    "            require(['gaussian'], function(gaussian) {\n",
    "                gaussian(element.get(0), %s, %s, %s, %d, %d);\n",
    "            });\n",
    "        })(element);\n",
    "    \"\"\" % (json.dumps(_sort(arr_1)), json.dumps(_sort(arr_2)), json.dumps(_sort(arr_3)), width, height)))\n",
    "    "
   ]
  },
  {
   "cell_type": "code",
   "execution_count": 367,
   "metadata": {},
   "outputs": [
    {
     "data": {
      "application/javascript": [
       "\n",
       "        (function(element){\n",
       "            require(['gaussian'], function(gaussian) {\n",
       "                gaussian(element.get(0), [{\"p\": 1.6418745835811153e-07, \"q\": 4.3}, {\"p\": 1.3705156500472144e-05, \"q\": 4.4}, {\"p\": 1.3705156500472144e-05, \"q\": 4.4}, {\"p\": 1.3705156500472144e-05, \"q\": 4.4}, {\"p\": 0.0005827868217247322, \"q\": 4.5}, {\"p\": 0.012624586161068608, \"q\": 4.6}, {\"p\": 0.012624586161068608, \"q\": 4.6}, {\"p\": 0.012624586161068608, \"q\": 4.6}, {\"p\": 0.012624586161068608, \"q\": 4.6}, {\"p\": 0.1393176958197273, \"q\": 4.7}, {\"p\": 0.1393176958197273, \"q\": 4.7}, {\"p\": 0.7832080088511659, \"q\": 4.8}, {\"p\": 0.7832080088511659, \"q\": 4.8}, {\"p\": 0.7832080088511659, \"q\": 4.8}, {\"p\": 0.7832080088511659, \"q\": 4.8}, {\"p\": 0.7832080088511659, \"q\": 4.8}, {\"p\": 2.243002000519651, \"q\": 4.9}, {\"p\": 2.243002000519651, \"q\": 4.9}, {\"p\": 2.243002000519651, \"q\": 4.9}, {\"p\": 2.243002000519651, \"q\": 4.9}, {\"p\": 3.2723813319715176, \"q\": 5.0}, {\"p\": 3.2723813319715176, \"q\": 5.0}, {\"p\": 3.2723813319715176, \"q\": 5.0}, {\"p\": 3.2723813319715176, \"q\": 5.0}, {\"p\": 3.2723813319715176, \"q\": 5.0}, {\"p\": 3.2723813319715176, \"q\": 5.0}, {\"p\": 3.2723813319715176, \"q\": 5.0}, {\"p\": 3.2723813319715176, \"q\": 5.0}, {\"p\": 2.432091200346839, \"q\": 5.1}, {\"p\": 2.432091200346839, \"q\": 5.1}, {\"p\": 2.432091200346839, \"q\": 5.1}, {\"p\": 2.432091200346839, \"q\": 5.1}, {\"p\": 2.432091200346839, \"q\": 5.1}, {\"p\": 2.432091200346839, \"q\": 5.1}, {\"p\": 2.432091200346839, \"q\": 5.1}, {\"p\": 2.432091200346839, \"q\": 5.1}, {\"p\": 0.920825867278465, \"q\": 5.2}, {\"p\": 0.920825867278465, \"q\": 5.2}, {\"p\": 0.920825867278465, \"q\": 5.2}, {\"p\": 0.17760568762001377, \"q\": 5.3}, {\"p\": 0.01745090412709785, \"q\": 5.4}, {\"p\": 0.01745090412709785, \"q\": 5.4}, {\"p\": 0.01745090412709785, \"q\": 5.4}, {\"p\": 0.01745090412709785, \"q\": 5.4}, {\"p\": 0.01745090412709785, \"q\": 5.4}, {\"p\": 0.0008734955565552593, \"q\": 5.5}, {\"p\": 0.0008734955565552593, \"q\": 5.5}, {\"p\": 2.8932858848129987e-07, \"q\": 5.7}, {\"p\": 2.8932858848129987e-07, \"q\": 5.7}, {\"p\": 1.9146051774303766e-09, \"q\": 5.8}], [{\"p\": 0.0005827851038238713, \"q\": 4.9}, {\"p\": 0.002475233802849611, \"q\": 5.0}, {\"p\": 0.002475233802849611, \"q\": 5.0}, {\"p\": 0.009078652581413736, \"q\": 5.1}, {\"p\": 0.028755700496377826, \"q\": 5.2}, {\"p\": 0.18578952120504105, \"q\": 5.4}, {\"p\": 0.37897968009279925, \"q\": 5.5}, {\"p\": 0.37897968009279925, \"q\": 5.5}, {\"p\": 0.37897968009279925, \"q\": 5.5}, {\"p\": 0.37897968009279925, \"q\": 5.5}, {\"p\": 0.37897968009279925, \"q\": 5.5}, {\"p\": 0.6675872276084118, \"q\": 5.6}, {\"p\": 0.6675872276084118, \"q\": 5.6}, {\"p\": 0.6675872276084118, \"q\": 5.6}, {\"p\": 0.6675872276084118, \"q\": 5.6}, {\"p\": 0.6675872276084118, \"q\": 5.6}, {\"p\": 1.015541085504574, \"q\": 5.7}, {\"p\": 1.015541085504574, \"q\": 5.7}, {\"p\": 1.015541085504574, \"q\": 5.7}, {\"p\": 1.015541085504574, \"q\": 5.7}, {\"p\": 1.015541085504574, \"q\": 5.7}, {\"p\": 1.3340876453950472, \"q\": 5.8}, {\"p\": 1.3340876453950472, \"q\": 5.8}, {\"p\": 1.3340876453950472, \"q\": 5.8}, {\"p\": 1.513451859471004, \"q\": 5.9}, {\"p\": 1.513451859471004, \"q\": 5.9}, {\"p\": 1.4826896132015435, \"q\": 6.0}, {\"p\": 1.4826896132015435, \"q\": 6.0}, {\"p\": 1.4826896132015435, \"q\": 6.0}, {\"p\": 1.4826896132015435, \"q\": 6.0}, {\"p\": 1.2543804131032692, \"q\": 6.1}, {\"p\": 1.2543804131032692, \"q\": 6.1}, {\"p\": 1.2543804131032692, \"q\": 6.1}, {\"p\": 1.2543804131032692, \"q\": 6.1}, {\"p\": 0.9164434417807644, \"q\": 6.2}, {\"p\": 0.9164434417807644, \"q\": 6.2}, {\"p\": 0.5782018225871921, \"q\": 6.3}, {\"p\": 0.5782018225871921, \"q\": 6.3}, {\"p\": 0.5782018225871921, \"q\": 6.3}, {\"p\": 0.3150290690717806, \"q\": 6.4}, {\"p\": 0.3150290690717806, \"q\": 6.4}, {\"p\": 0.1482242249983942, \"q\": 6.5}, {\"p\": 0.06022615418332545, \"q\": 6.6}, {\"p\": 0.06022615418332545, \"q\": 6.6}, {\"p\": 0.02113238235439062, \"q\": 6.7}, {\"p\": 0.02113238235439062, \"q\": 6.7}, {\"p\": 0.02113238235439062, \"q\": 6.7}, {\"p\": 0.006403378494144274, \"q\": 6.8}, {\"p\": 0.0016755881147501475, \"q\": 6.9}, {\"p\": 0.0003786367416558935, \"q\": 7.0}], [{\"p\": 0.00011546995661198735, \"q\": 4.9}, {\"p\": 0.04497673083270574, \"q\": 5.6}, {\"p\": 0.08173856256470859, \"q\": 5.7}, {\"p\": 0.1393822121705237, \"q\": 5.8}, {\"p\": 0.1393822121705237, \"q\": 5.8}, {\"p\": 0.1393822121705237, \"q\": 5.8}, {\"p\": 0.22301237161707868, \"q\": 5.9}, {\"p\": 0.33480490010550407, \"q\": 6.0}, {\"p\": 0.33480490010550407, \"q\": 6.0}, {\"p\": 0.4716240040761348, \"q\": 6.1}, {\"p\": 0.4716240040761348, \"q\": 6.1}, {\"p\": 0.6233633184780115, \"q\": 6.2}, {\"p\": 0.6233633184780115, \"q\": 6.2}, {\"p\": 0.7730860394185155, \"q\": 6.3}, {\"p\": 0.7730860394185155, \"q\": 6.3}, {\"p\": 0.7730860394185155, \"q\": 6.3}, {\"p\": 0.7730860394185155, \"q\": 6.3}, {\"p\": 0.7730860394185155, \"q\": 6.3}, {\"p\": 0.7730860394185155, \"q\": 6.3}, {\"p\": 0.8996128802289827, \"q\": 6.4}, {\"p\": 0.8996128802289827, \"q\": 6.4}, {\"p\": 0.8996128802289827, \"q\": 6.4}, {\"p\": 0.8996128802289827, \"q\": 6.4}, {\"p\": 0.8996128802289827, \"q\": 6.4}, {\"p\": 0.9822561238700801, \"q\": 6.5}, {\"p\": 0.9822561238700801, \"q\": 6.5}, {\"p\": 0.9822561238700801, \"q\": 6.5}, {\"p\": 0.9822561238700801, \"q\": 6.5}, {\"p\": 0.9673567004812573, \"q\": 6.7}, {\"p\": 0.9673567004812573, \"q\": 6.7}, {\"p\": 0.9673567004812573, \"q\": 6.7}, {\"p\": 0.9673567004812573, \"q\": 6.7}, {\"p\": 0.9673567004812573, \"q\": 6.7}, {\"p\": 0.8725281815102188, \"q\": 6.8}, {\"p\": 0.8725281815102188, \"q\": 6.8}, {\"p\": 0.7384371338904134, \"q\": 6.9}, {\"p\": 0.7384371338904134, \"q\": 6.9}, {\"p\": 0.7384371338904134, \"q\": 6.9}, {\"p\": 0.4369234925524411, \"q\": 7.1}, {\"p\": 0.30546622655701383, \"q\": 7.2}, {\"p\": 0.30546622655701383, \"q\": 7.2}, {\"p\": 0.30546622655701383, \"q\": 7.2}, {\"p\": 0.20038363466234319, \"q\": 7.3}, {\"p\": 0.12333960285832232, \"q\": 7.4}, {\"p\": 0.03860173954036088, \"q\": 7.6}, {\"p\": 0.019627767752933685, \"q\": 7.7}, {\"p\": 0.019627767752933685, \"q\": 7.7}, {\"p\": 0.019627767752933685, \"q\": 7.7}, {\"p\": 0.019627767752933685, \"q\": 7.7}, {\"p\": 0.004192013938053679, \"q\": 7.9}], 600, 300);\n",
       "            });\n",
       "        })(element);\n",
       "    "
      ],
      "text/plain": [
       "<IPython.core.display.Javascript object>"
      ]
     },
     "metadata": {},
     "output_type": "display_data"
    }
   ],
   "source": [
    "draw_gaussian(arr_1, arr_2, arr_3, width=600, height=300)"
   ]
  }
 ],
 "metadata": {
  "colab": {
   "collapsed_sections": [],
   "name": "Chapter 1: Introduction",
   "provenance": []
  },
  "kernelspec": {
   "display_name": "Python 3",
   "language": "python",
   "name": "python3"
  },
  "language_info": {
   "codemirror_mode": {
    "name": "ipython",
    "version": 3
   },
   "file_extension": ".py",
   "mimetype": "text/x-python",
   "name": "python",
   "nbconvert_exporter": "python",
   "pygments_lexer": "ipython3",
   "version": "3.7.4"
  }
 },
 "nbformat": 4,
 "nbformat_minor": 1
}
